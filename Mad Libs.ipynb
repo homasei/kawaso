{
 "cells": [
  {
   "cell_type": "code",
   "execution_count": 2,
   "id": "6a29f307",
   "metadata": {},
   "outputs": [
    {
     "name": "stdout",
     "output_type": "stream",
     "text": [
      "__複数名詞__を入力:animals\n",
      "__複数名詞__を入力:animals\n",
      "__体の一部__を入力:首\n",
      "__数値__を入力:3\n",
      "__単位__を入力:m\n",
      "__体の一部__を入力:首\n",
      "\n",
      "\n",
      "キリンは大昔から animals の興味の対象でした。キリンは animals の中で一番背が高いですが、科学者たちはそのような長井 首 をどうやって獲得したのか説明できません。キリンの身長は 3 m 近くあり、その高さのほとんどは脚と 首 によるものです。\n"
     ]
    }
   ],
   "source": [
    "import re\n",
    "\n",
    "text = \"\"\"キリンは大昔から __複数名詞__ の興味の対象でした。キリンは __複数名詞__ の中で一番背が高いですが、科学者たちはそのような長井 __体の一部__ をどうやって獲得したのか説明できません。キリンの身長は __数値__ __単位__ 近くあり、その高さのほとんどは脚と __体の一部__ によるものです。\n",
    "\"\"\"\n",
    "def mad_libs(mls):\n",
    "    \"\"\"\n",
    "    :param mls: 文字列で、ユーザーに入力してもらいたい単語(=ヒント)の部分は後を2つのアンダースコアで挟んでください。ヒントの単語にはアンダースコアを含めないでください。 __hint_hint__ はだめです。 __hint__ はOKです。\n",
    "    \"\"\"\n",
    "    hints = re.findall(\"__.*?__\", mls)\n",
    "    if hints is not None:\n",
    "        for word in hints:\n",
    "            q = \"{}を入力:\".format(word)\n",
    "            new = input(q)\n",
    "            mls = mls.replace(word, new, 1)\n",
    "        print('\\n')\n",
    "        mls = mls.replace(\"\\n\", \"\")\n",
    "        print(mls)\n",
    "    else:\n",
    "        print(\"引数mlsが無効です\")\n",
    "        \n",
    "mad_libs(text)\n"
   ]
  },
  {
   "cell_type": "code",
   "execution_count": null,
   "id": "bcb247b3",
   "metadata": {},
   "outputs": [],
   "source": []
  }
 ],
 "metadata": {
  "kernelspec": {
   "display_name": "Python 3 (ipykernel)",
   "language": "python",
   "name": "python3"
  },
  "language_info": {
   "codemirror_mode": {
    "name": "ipython",
    "version": 3
   },
   "file_extension": ".py",
   "mimetype": "text/x-python",
   "name": "python",
   "nbconvert_exporter": "python",
   "pygments_lexer": "ipython3",
   "version": "3.11.3"
  }
 },
 "nbformat": 4,
 "nbformat_minor": 5
}
