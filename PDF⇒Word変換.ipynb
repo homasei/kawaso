{
 "cells": [
  {
   "cell_type": "code",
   "execution_count": 21,
   "id": "9709ad3e",
   "metadata": {
    "scrolled": true
   },
   "outputs": [
    {
     "name": "stderr",
     "output_type": "stream",
     "text": [
      "[INFO] Start to convert C:\\Users\\matsumoto_tkyk\\OneDrive - カワソーテクセル株式会社\\デスクトップ\\input\\機密保持契約書（３社間）0.pdf\n",
      "[INFO] \u001b[1;36m[1/4] Opening document...\u001b[0m\n",
      "[INFO] \u001b[1;36m[2/4] Analyzing document...\u001b[0m\n",
      "[INFO] \u001b[1;36m[3/4] Parsing pages...\u001b[0m\n",
      "[INFO] (1/1) Page 1\n",
      "[INFO] \u001b[1;36m[4/4] Creating pages...\u001b[0m\n",
      "[INFO] (1/1) Page 1\n",
      "[INFO] Terminated in 0.12s.\n",
      "[INFO] Start to convert C:\\Users\\matsumoto_tkyk\\OneDrive - カワソーテクセル株式会社\\デスクトップ\\input\\機密保持契約書（３社間）1.pdf\n",
      "[INFO] \u001b[1;36m[1/4] Opening document...\u001b[0m\n",
      "[INFO] \u001b[1;36m[2/4] Analyzing document...\u001b[0m\n",
      "[INFO] \u001b[1;36m[3/4] Parsing pages...\u001b[0m\n",
      "[INFO] (1/1) Page 1\n",
      "[INFO] \u001b[1;36m[4/4] Creating pages...\u001b[0m\n",
      "[INFO] (1/1) Page 1\n",
      "[INFO] Terminated in 0.16s.\n",
      "[INFO] Start to convert C:\\Users\\matsumoto_tkyk\\OneDrive - カワソーテクセル株式会社\\デスクトップ\\input\\機密保持契約書（３社間）2.pdf\n",
      "[INFO] \u001b[1;36m[1/4] Opening document...\u001b[0m\n",
      "[INFO] \u001b[1;36m[2/4] Analyzing document...\u001b[0m\n",
      "[INFO] \u001b[1;36m[3/4] Parsing pages...\u001b[0m\n",
      "[INFO] (1/1) Page 1\n",
      "[INFO] \u001b[1;36m[4/4] Creating pages...\u001b[0m\n",
      "[INFO] (1/1) Page 1\n",
      "[INFO] Terminated in 0.11s.\n"
     ]
    }
   ],
   "source": [
    "import os\n",
    "from pdf2docx import Converter\n",
    "\n",
    "#グローバル変数にinputフォルダ、outputフォルダを格納\n",
    "input_dir = r\"C:\\Users\\matsumoto_tkyk\\OneDrive - カワソーテクセル株式会社\\デスクトップ\\input\"\n",
    "output_dir = r\"C:\\Users\\matsumoto_tkyk\\OneDrive - カワソーテクセル株式会社\\デスクトップ\\output\"\n",
    "\n",
    "#pdfファイルのパスを取得\n",
    "def get_pdf(input_path, output_path):\n",
    "    file = []\n",
    "    output = []\n",
    "    for filename in os.listdir(input_path):\n",
    "        #拡張子が.pdfのファイルをinput,outputディレクトリと同期\n",
    "        if filename.endswith('.pdf'):\n",
    "            file.append(os.path.join(input_dir, filename))\n",
    "            output.append(os.path.join(output_dir, filename))\n",
    "    return file, output\n",
    "\n",
    "#PDFファイルをwordファイルへ変換\n",
    "def pdf_change_to_docx(input_files, output_files):\n",
    "    for pdf, docx in zip(input_files, output_files):\n",
    "        cv = Converter(pdf)\n",
    "        docx_file = docx.replace(\".pdf\", \".docx\")\n",
    "        cv.convert(docx_file)\n",
    "        cv.close\n",
    "\n",
    "pdf_files = get_pdf(input_dir, output_dir)\n",
    "pdf_change_to_docx(pdf_files[0], pdf_files[1])"
   ]
  }
 ],
 "metadata": {
  "kernelspec": {
   "display_name": "Python 3 (ipykernel)",
   "language": "python",
   "name": "python3"
  },
  "language_info": {
   "codemirror_mode": {
    "name": "ipython",
    "version": 3
   },
   "file_extension": ".py",
   "mimetype": "text/x-python",
   "name": "python",
   "nbconvert_exporter": "python",
   "pygments_lexer": "ipython3",
   "version": "3.11.3"
  }
 },
 "nbformat": 4,
 "nbformat_minor": 5
}
