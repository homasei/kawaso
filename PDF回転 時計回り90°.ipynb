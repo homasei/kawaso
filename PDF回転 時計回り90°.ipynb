{
 "cells": [
  {
   "cell_type": "code",
   "execution_count": 2,
   "id": "3ab80060",
   "metadata": {},
   "outputs": [],
   "source": [
    "from pypdf import PdfReader, PdfWriter\n",
    "import glob\n",
    "import os\n",
    "import pypdf\n",
    "\n",
    "#使用者のフォルダ(input,output)を指定する\n",
    "input_dir = r\"C:\\Users\\matsumoto_tkyk\\OneDrive - カワソーテクセル株式会社\\デスクトップ\\input\"\n",
    "output_dir = r\"C:\\Users\\matsumoto_tkyk\\OneDrive - カワソーテクセル株式会社\\デスクトップ\\output\"\n",
    "\n",
    "#PDFを時計回りに90°回転させる\n",
    "def pdf_rotate90(input_dir, output_dir):\n",
    "    #inputフォルダ内のファイルを取得\n",
    "    for filename in os.listdir(input_dir):\n",
    "        #拡張子が.pdfのファイルをinput,outputディレクトリと同期\n",
    "        if filename.endswith('.pdf'):\n",
    "            input_path = os.path.join(input_dir, filename)\n",
    "            output_path = os.path.join(output_dir, filename)\n",
    "            \n",
    "            #PDFリーダーにバイナリを指定して読み込み、PDFライターの設定\n",
    "            with open(input_path, 'rb') as file:\n",
    "                reader = PdfReader(file)\n",
    "                writer = PdfWriter()\n",
    "                \n",
    "                #読み込んだPDFの総ページをlenで取得し、一枚づつ90°回転させ、ライターへ書き込む\n",
    "                for page_number in range(len(reader.pages)):\n",
    "                    page = reader.pages[page_number]\n",
    "                    page.rotate(90)\n",
    "                    writer.add_page(page)\n",
    "                \n",
    "                #ライターへ書き込まれたPDFデータをoutputdirへ排出。withによってcloseの必要なし。\n",
    "                with open(output_path, 'wb') as output_file:\n",
    "                    writer.write(output_file)\n",
    "\n",
    "pdf_rotate90(input_dir, output_dir)"
   ]
  }
 ],
 "metadata": {
  "kernelspec": {
   "display_name": "Python 3 (ipykernel)",
   "language": "python",
   "name": "python3"
  },
  "language_info": {
   "codemirror_mode": {
    "name": "ipython",
    "version": 3
   },
   "file_extension": ".py",
   "mimetype": "text/x-python",
   "name": "python",
   "nbconvert_exporter": "python",
   "pygments_lexer": "ipython3",
   "version": "3.11.3"
  }
 },
 "nbformat": 4,
 "nbformat_minor": 5
}
