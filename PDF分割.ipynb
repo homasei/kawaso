{
 "cells": [
  {
   "cell_type": "code",
   "execution_count": 1,
   "id": "18a81829",
   "metadata": {},
   "outputs": [],
   "source": [
    "# ライブラリのインポート\n",
    "from pypdf import PdfReader, PdfWriter\n",
    "import glob\n",
    "import os\n",
    "import pypdf"
   ]
  },
  {
   "cell_type": "code",
   "execution_count": 6,
   "id": "8a704f99",
   "metadata": {},
   "outputs": [],
   "source": [
    "input_folder = r\"C:\\Users\\matsumoto_tkyk\\OneDrive - カワソーテクセル株式会社\\デスクトップ\\input\"\n",
    "output_folder = r\"C:\\Users\\matsumoto_tkyk\\OneDrive - カワソーテクセル株式会社\\デスクトップ\\output\"\n",
    "\n",
    "for filename in os.listdir(input_folder):\n",
    "        if filename.endswith('.pdf'):\n",
    "            input_path = os.path.join(input_folder, filename)\n",
    "            output_path = os.path.join(output_folder, filename)\n",
    "            \n",
    "            with open(input_path, 'rb') as file:\n",
    "                reader = PdfReader(file)\n",
    "                writer = PdfWriter()\n",
    "                \n",
    "                for page_number in range(len(reader.pages)):\n",
    "                    page = reader.pages[page_number]\n",
    "                    page.rotate(90)\n",
    "                    writer.add_page(page)\n",
    "                    \n",
    "                with open(output_path, 'wb') as output_file:\n",
    "                    writer.write(output_file)\n",
    "\n",
    "for page in range(len(pdf.pages)):\n",
    "    newpdf = PdfWriter()\n",
    "    newpdf.add_page(pdf.pages[page])\n",
    "    \n"
   ]
  },
  {
   "cell_type": "code",
   "execution_count": 7,
   "id": "ea190641",
   "metadata": {},
   "outputs": [],
   "source": [
    "    pageNo = format(page,\"0>2\")\n",
    "    newfilename = os.path.join(make_path,f\"{filename}_{pageNo}.pdf\")\n",
    "    with open(newfilename,\"wb\")as f:\n",
    "        newpdf.write(f)"
   ]
  },
  {
   "cell_type": "code",
   "execution_count": null,
   "id": "1aa5b84e",
   "metadata": {},
   "outputs": [],
   "source": []
  }
 ],
 "metadata": {
  "kernelspec": {
   "display_name": "Python 3 (ipykernel)",
   "language": "python",
   "name": "python3"
  },
  "language_info": {
   "codemirror_mode": {
    "name": "ipython",
    "version": 3
   },
   "file_extension": ".py",
   "mimetype": "text/x-python",
   "name": "python",
   "nbconvert_exporter": "python",
   "pygments_lexer": "ipython3",
   "version": "3.11.3"
  }
 },
 "nbformat": 4,
 "nbformat_minor": 5
}
