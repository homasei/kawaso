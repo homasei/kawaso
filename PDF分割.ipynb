{
 "cells": [
  {
   "cell_type": "code",
   "execution_count": 12,
   "id": "18a81829",
   "metadata": {},
   "outputs": [],
   "source": [
    "# ライブラリのインポート\n",
    "from pypdf import PdfReader, PdfWriter\n",
    "import pathlib\n",
    "import glob"
   ]
  },
  {
   "cell_type": "code",
   "execution_count": 18,
   "id": "8a704f99",
   "metadata": {},
   "outputs": [],
   "source": [
    "input_dir = r\"C:\\Users\\matsumoto_tkyk\\OneDrive - カワソーテクセル株式会社\\デスクトップ\\input\\機密保持契約書（３社間）.pdf\"\n",
    "output_dir = r\"C:\\Users\\matsumoto_tkyk\\OneDrive - カワソーテクセル株式会社\\デスクトップ\\output\"\n",
    "\n",
    "def split_pdf_pages(input_dir, output_dir):\n",
    "    src_pdf = pypdf.PdfReader(input_dir)\n",
    "    for i, page in enumerate(src_pdf.pages):\n",
    "        out_pdf = pypdf.PdfWriter()\n",
    "        out_pdf.add_page(page)\n",
    "        out_pdf.write(f\"{output_dir}_{i}.pdf\")\n",
    "        \n",
    "split_pdf_pages(input_dir, output_dir)"
   ]
  },
  {
   "cell_type": "code",
   "execution_count": 29,
   "id": "cd8cba85",
   "metadata": {},
   "outputs": [],
   "source": [
    "input_dir = r\"C:\\Users\\matsumoto_tkyk\\OneDrive - カワソーテクセル株式会社\\デスクトップ\\input\\機密保持契約書（３社間）.pdf\"\n",
    "\n",
    "# PDFの読み込み\n",
    "reader = PdfReader(input_dir)\n",
    "sourcepage = reader.pages[0]\n",
    "\n",
    "\n",
    "# 0番目の要素(1ページ目のPDF)を抜き出す\n",
    "pdf = reader.pages[0]\n",
    "\n",
    "# 書き込み用のオブジェクトを作成\n",
    "writer = PdfWriter()\n",
    "\n",
    "# 書き込み用オブジェクトに追加\n",
    "writer.add_page(pdf)\n",
    "\n",
    "# ファイルに書き出し\n",
    "with open(\"機密保持契約書（３社間）_p1.pdf\", \"wb\") as fp:\n",
    "    writer.write(fp)"
   ]
  },
  {
   "cell_type": "code",
   "execution_count": 31,
   "id": "98791083",
   "metadata": {},
   "outputs": [
    {
     "name": "stdout",
     "output_type": "stream",
     "text": [
      "<pypdf._writer.PdfWriter object at 0x0000029411C40890>\n"
     ]
    }
   ],
   "source": [
    "input_file = r\"C:\\Users\\matsumoto_tkyk\\OneDrive - カワソーテクセル株式会社\\デスクトップ\\input\\機密保持契約書（３社間）.pdf\"\n",
    "output_dir = r\"C:\\Users\\matsumoto_tkyk\\OneDrive - カワソーテクセル株式会社\\デスクトップ\\output\"\n",
    "\n",
    "reader = pypdf.PdfReader(input_file)\n",
    "for i, page in enumerate(reader.pages):\n",
    "    writer = pypdf.PdfWriter()\n",
    "    writer.add_page(page)\n",
    "    with open(f\"{output_dir}_{i}.pdf\", \"wb\") as fp:\n",
    "        writer.write(fp)\n",
    "    \n",
    "\n",
    "print(out_pdf)"
   ]
  },
  {
   "cell_type": "code",
   "execution_count": null,
   "id": "e7059a1a",
   "metadata": {},
   "outputs": [],
   "source": []
  }
 ],
 "metadata": {
  "kernelspec": {
   "display_name": "Python 3 (ipykernel)",
   "language": "python",
   "name": "python3"
  },
  "language_info": {
   "codemirror_mode": {
    "name": "ipython",
    "version": 3
   },
   "file_extension": ".py",
   "mimetype": "text/x-python",
   "name": "python",
   "nbconvert_exporter": "python",
   "pygments_lexer": "ipython3",
   "version": "3.11.3"
  }
 },
 "nbformat": 4,
 "nbformat_minor": 5
}
