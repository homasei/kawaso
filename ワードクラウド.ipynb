{
 "cells": [
  {
   "cell_type": "code",
   "execution_count": 1,
   "id": "4a49b9b7",
   "metadata": {},
   "outputs": [
    {
     "name": "stdout",
     "output_type": "stream",
     "text": [
      "['自然', '言語', '処理', '英語', 'natural', 'language', 'processing', '略称', 'NLP', '人間', '日常', '自然', '言語', 'コンピュータ', '処理', '一連', '技術', '人工', '知能', '言語', '分野', '計算', '言語', 'computational', 'linguistics', '類似', '自然', '言語', '処理', '工学', '視点', '言語', '処理', '計算', '言語', '言語', '視点', '重視', '手法', '事', 'データベース', '情報', '自然', '言語', '変換', '自然', '言語', '文章', '形式', 'コンピュータ', '理解', '表現', '変換', '処理', '応用', '例', '予測', '変換', 'IME', '文字', '変換', '自然', '言語', '理解', 'コンピュータ', '自然', '言語', '理解', '自然', '言語', '理解', '自', '言語', '処理', '差', '意味', '説', '最近', '数理', '言語', '解析', '手法', '統計', '確率', '為', 'パーサ', '統語', '解析', '精度', '速度', '一段', '意味', '自然', '言語', '意味', '論', '側面', '無視', '達成', '自然', '言語', '処理', '形態', '解析', '構文', '解析', '文脈', '解析', '意味', '解析', 'Syntax', '表層', '観点', '解析', '学問', '自然', '言語', '理解', '意味', '理解', '個々', '理解', '推論', '部分', '研究', '課題', '両者', '境界', '意思', '意図']\n"
     ]
    }
   ],
   "source": [
    "import re\n",
    "import MeCab\n",
    "\n",
    "mecab_tagger = MeCab.Tagger()\n",
    "\n",
    "text = '''自然言語処理（しぜんげんごしょり、英語: natural language processing、略称：NLP）は、\n",
    "人間が日常的に使っている自然言語をコンピュータに処理させる一連の技術であり、人工知能と言語学の\n",
    "一分野である。「計算言語学」（computational linguistics）との類似もあるが、自然言語処理は工学的\n",
    "な視点からの言語処理をさすのに対して、計算言語学は言語学的視点を重視する手法をさす事が多い[1]。\n",
    "データベース内の情報を自然言語に変換したり、自然言語の文章をより形式的な（コンピュータが理解し\n",
    "やすい）表現に変換するといった処理が含まれる。応用例としては予測変換、IMEなどの文字変換が挙げら\n",
    "れる。自然言語の理解をコンピュータにさせることは、自然言語理解とされている。自然言語理解と、自\n",
    "然言語処理の差は、意味を扱うか、扱わないかという説もあったが、最近は数理的な言語解析手法（統計\n",
    "や確率など）が広められた為、パーサ（統語解析器）などの精度や速度が一段と上がり、その意味合いは\n",
    "違ってきている。もともと自然言語の意味論的側面を全く無視して達成できることは非常に限られている。\n",
    "このため、自然言語処理には形態素解析と構文解析、文脈解析、意味解析などをSyntaxなど表層的な観点\n",
    "から解析をする学問であるが、自然言語理解は、意味をどのように理解するかという個々人の理解と推論\n",
    "部分が主な研究の課題になってきており、両者の境界は意思や意図が含まれるかどうかになってきている。'''\n",
    "node = mecab_tagger.parseToNode(text)\n",
    "vocab_list = []\n",
    "\n",
    "while node:\n",
    "    word = node.surface\n",
    "    hinshi = node.feature.split(\",\")[0]\n",
    "    if hinshi == \"名詞\":\n",
    "        if (not word.isnumeric()) and (not re.match(r'^[\\u3040-\\u309F]+$', word)):\n",
    "            # 名詞が数値と平仮名のみの場合は除き、それ以外の名詞を保存\n",
    "            vocab_list.append(word)\n",
    "    else:\n",
    "        pass\n",
    "    node = node.next\n",
    "\n",
    "print(vocab_list)\n"
   ]
  },
  {
   "cell_type": "code",
   "execution_count": 2,
   "id": "f714e1f6",
   "metadata": {},
   "outputs": [
    {
     "data": {
      "text/html": [
       "<style>#sk-container-id-1 {color: black;}#sk-container-id-1 pre{padding: 0;}#sk-container-id-1 div.sk-toggleable {background-color: white;}#sk-container-id-1 label.sk-toggleable__label {cursor: pointer;display: block;width: 100%;margin-bottom: 0;padding: 0.3em;box-sizing: border-box;text-align: center;}#sk-container-id-1 label.sk-toggleable__label-arrow:before {content: \"▸\";float: left;margin-right: 0.25em;color: #696969;}#sk-container-id-1 label.sk-toggleable__label-arrow:hover:before {color: black;}#sk-container-id-1 div.sk-estimator:hover label.sk-toggleable__label-arrow:before {color: black;}#sk-container-id-1 div.sk-toggleable__content {max-height: 0;max-width: 0;overflow: hidden;text-align: left;background-color: #f0f8ff;}#sk-container-id-1 div.sk-toggleable__content pre {margin: 0.2em;color: black;border-radius: 0.25em;background-color: #f0f8ff;}#sk-container-id-1 input.sk-toggleable__control:checked~div.sk-toggleable__content {max-height: 200px;max-width: 100%;overflow: auto;}#sk-container-id-1 input.sk-toggleable__control:checked~label.sk-toggleable__label-arrow:before {content: \"▾\";}#sk-container-id-1 div.sk-estimator input.sk-toggleable__control:checked~label.sk-toggleable__label {background-color: #d4ebff;}#sk-container-id-1 div.sk-label input.sk-toggleable__control:checked~label.sk-toggleable__label {background-color: #d4ebff;}#sk-container-id-1 input.sk-hidden--visually {border: 0;clip: rect(1px 1px 1px 1px);clip: rect(1px, 1px, 1px, 1px);height: 1px;margin: -1px;overflow: hidden;padding: 0;position: absolute;width: 1px;}#sk-container-id-1 div.sk-estimator {font-family: monospace;background-color: #f0f8ff;border: 1px dotted black;border-radius: 0.25em;box-sizing: border-box;margin-bottom: 0.5em;}#sk-container-id-1 div.sk-estimator:hover {background-color: #d4ebff;}#sk-container-id-1 div.sk-parallel-item::after {content: \"\";width: 100%;border-bottom: 1px solid gray;flex-grow: 1;}#sk-container-id-1 div.sk-label:hover label.sk-toggleable__label {background-color: #d4ebff;}#sk-container-id-1 div.sk-serial::before {content: \"\";position: absolute;border-left: 1px solid gray;box-sizing: border-box;top: 0;bottom: 0;left: 50%;z-index: 0;}#sk-container-id-1 div.sk-serial {display: flex;flex-direction: column;align-items: center;background-color: white;padding-right: 0.2em;padding-left: 0.2em;position: relative;}#sk-container-id-1 div.sk-item {position: relative;z-index: 1;}#sk-container-id-1 div.sk-parallel {display: flex;align-items: stretch;justify-content: center;background-color: white;position: relative;}#sk-container-id-1 div.sk-item::before, #sk-container-id-1 div.sk-parallel-item::before {content: \"\";position: absolute;border-left: 1px solid gray;box-sizing: border-box;top: 0;bottom: 0;left: 50%;z-index: -1;}#sk-container-id-1 div.sk-parallel-item {display: flex;flex-direction: column;z-index: 1;position: relative;background-color: white;}#sk-container-id-1 div.sk-parallel-item:first-child::after {align-self: flex-end;width: 50%;}#sk-container-id-1 div.sk-parallel-item:last-child::after {align-self: flex-start;width: 50%;}#sk-container-id-1 div.sk-parallel-item:only-child::after {width: 0;}#sk-container-id-1 div.sk-dashed-wrapped {border: 1px dashed gray;margin: 0 0.4em 0.5em 0.4em;box-sizing: border-box;padding-bottom: 0.4em;background-color: white;}#sk-container-id-1 div.sk-label label {font-family: monospace;font-weight: bold;display: inline-block;line-height: 1.2em;}#sk-container-id-1 div.sk-label-container {text-align: center;}#sk-container-id-1 div.sk-container {/* jupyter's `normalize.less` sets `[hidden] { display: none; }` but bootstrap.min.css set `[hidden] { display: none !important; }` so we also need the `!important` here to be able to override the default hidden behavior on the sphinx rendered scikit-learn.org. See: https://github.com/scikit-learn/scikit-learn/issues/21755 */display: inline-block !important;position: relative;}#sk-container-id-1 div.sk-text-repr-fallback {display: none;}</style><div id=\"sk-container-id-1\" class=\"sk-top-container\"><div class=\"sk-text-repr-fallback\"><pre>TfidfVectorizer(norm=None, token_pattern=&#x27;(?u)\\\\b\\\\w+\\\\b&#x27;)</pre><b>In a Jupyter environment, please rerun this cell to show the HTML representation or trust the notebook. <br />On GitHub, the HTML representation is unable to render, please try loading this page with nbviewer.org.</b></div><div class=\"sk-container\" hidden><div class=\"sk-item\"><div class=\"sk-estimator sk-toggleable\"><input class=\"sk-toggleable__control sk-hidden--visually\" id=\"sk-estimator-id-1\" type=\"checkbox\" checked><label for=\"sk-estimator-id-1\" class=\"sk-toggleable__label sk-toggleable__label-arrow\">TfidfVectorizer</label><div class=\"sk-toggleable__content\"><pre>TfidfVectorizer(norm=None, token_pattern=&#x27;(?u)\\\\b\\\\w+\\\\b&#x27;)</pre></div></div></div></div></div>"
      ],
      "text/plain": [
       "TfidfVectorizer(norm=None, token_pattern='(?u)\\\\b\\\\w+\\\\b')"
      ]
     },
     "execution_count": 2,
     "metadata": {},
     "output_type": "execute_result"
    }
   ],
   "source": [
    "from sklearn.feature_extraction.text import TfidfVectorizer\n",
    "\n",
    "# tfidfモデルの作成と学習\n",
    "tfidf_model = TfidfVectorizer(token_pattern='(?u)\\\\b\\\\w+\\\\b', norm=None)\n",
    "tfidf_model.fit(vocab_list)\n"
   ]
  },
  {
   "cell_type": "code",
   "execution_count": 3,
   "id": "90d0b5f9",
   "metadata": {},
   "outputs": [
    {
     "data": {
      "text/plain": [
       "{'computational': 5.182050142641207,\n",
       " 'ime': 5.182050142641207,\n",
       " 'language': 5.182050142641207,\n",
       " 'linguistics': 5.182050142641207,\n",
       " 'natural': 5.182050142641207,\n",
       " 'nlp': 5.182050142641207,\n",
       " 'processing': 5.182050142641207,\n",
       " 'syntax': 5.182050142641207,\n",
       " 'コンピュータ': 13.466708886243781,\n",
       " 'データベース': 5.182050142641207,\n",
       " 'パーサ': 5.182050142641207,\n",
       " '一段': 5.182050142641207,\n",
       " '一連': 5.182050142641207,\n",
       " '両者': 5.182050142641207,\n",
       " '予測': 5.182050142641207,\n",
       " '事': 5.182050142641207,\n",
       " '人工': 5.182050142641207,\n",
       " '人間': 5.182050142641207,\n",
       " '例': 5.182050142641207,\n",
       " '個々': 5.182050142641207,\n",
       " '側面': 5.182050142641207,\n",
       " '処理': 26.57029047064921,\n",
       " '分野': 5.182050142641207,\n",
       " '境界': 5.182050142641207,\n",
       " '変換': 17.063037643068206,\n",
       " '学問': 5.182050142641207,\n",
       " '工学': 5.182050142641207,\n",
       " '差': 5.182050142641207,\n",
       " '形式': 5.182050142641207,\n",
       " '形態': 5.182050142641207,\n",
       " '応用': 5.182050142641207,\n",
       " '情報': 5.182050142641207,\n",
       " '意味': 20.41718926986548,\n",
       " '意図': 5.182050142641207,\n",
       " '意思': 5.182050142641207,\n",
       " '手法': 9.553170069066084,\n",
       " '技術': 5.182050142641207,\n",
       " '推論': 5.182050142641207,\n",
       " '数理': 5.182050142641207,\n",
       " '文字': 5.182050142641207,\n",
       " '文章': 5.182050142641207,\n",
       " '文脈': 5.182050142641207,\n",
       " '日常': 5.182050142641207,\n",
       " '最近': 5.182050142641207,\n",
       " '構文': 5.182050142641207,\n",
       " '為': 5.182050142641207,\n",
       " '無視': 5.182050142641207,\n",
       " '理解': 26.57029047064921,\n",
       " '略称': 5.182050142641207,\n",
       " '知能': 5.182050142641207,\n",
       " '研究': 5.182050142641207,\n",
       " '確率': 5.182050142641207,\n",
       " '精度': 5.182050142641207,\n",
       " '統計': 5.182050142641207,\n",
       " '統語': 5.182050142641207,\n",
       " '自': 5.182050142641207,\n",
       " '自然': 37.29319740754467,\n",
       " '英語': 5.182050142641207,\n",
       " '表層': 5.182050142641207,\n",
       " '表現': 5.182050142641207,\n",
       " '視点': 9.553170069066084,\n",
       " '観点': 5.182050142641207,\n",
       " '解析': 26.57029047064921,\n",
       " '言語': 52.7536501926248,\n",
       " '計算': 9.553170069066084,\n",
       " '説': 5.182050142641207,\n",
       " '課題': 5.182050142641207,\n",
       " '論': 5.182050142641207,\n",
       " '速度': 5.182050142641207,\n",
       " '達成': 5.182050142641207,\n",
       " '部分': 5.182050142641207,\n",
       " '重視': 5.182050142641207,\n",
       " '類似': 5.182050142641207}"
      ]
     },
     "execution_count": 3,
     "metadata": {},
     "output_type": "execute_result"
    }
   ],
   "source": [
    "# 対象のテキストをtf-idf値に変換\n",
    "vocab_text = \" \".join(vocab_list)\n",
    "tfidf_vec = tfidf_model.transform([vocab_text]).toarray()[0]\n",
    "# 単語: tf-idf値となるdictに変換\n",
    "tfidf_dict = dict(zip(tfidf_model.get_feature_names_out(), tfidf_vec))\n",
    "# tf-idf値が正のみの単語を残す\n",
    "tfidf_dict = {word: num_val for word, num_val in tfidf_dict.items() if num_val > 0}\n",
    "\n",
    "tfidf_dict\n"
   ]
  },
  {
   "cell_type": "code",
   "execution_count": 4,
   "id": "0c647836",
   "metadata": {},
   "outputs": [
    {
     "ename": "OSError",
     "evalue": "cannot open resource",
     "output_type": "error",
     "traceback": [
      "\u001b[1;31m---------------------------------------------------------------------------\u001b[0m",
      "\u001b[1;31mOSError\u001b[0m                                   Traceback (most recent call last)",
      "Cell \u001b[1;32mIn[4], line 5\u001b[0m\n\u001b[0;32m      2\u001b[0m \u001b[38;5;28;01mfrom\u001b[39;00m \u001b[38;5;21;01mwordcloud\u001b[39;00m \u001b[38;5;28;01mimport\u001b[39;00m WordCloud\n\u001b[0;32m      4\u001b[0m font_path \u001b[38;5;241m=\u001b[39m \u001b[38;5;124m\"\u001b[39m\u001b[38;5;124m/usr/share/fonts/opentype/ipaexfont-gothic/ipaexg.ttf\u001b[39m\u001b[38;5;124m\"\u001b[39m\n\u001b[1;32m----> 5\u001b[0m wc \u001b[38;5;241m=\u001b[39m \u001b[43mWordCloud\u001b[49m\u001b[43m(\u001b[49m\u001b[43mbackground_color\u001b[49m\u001b[38;5;241;43m=\u001b[39;49m\u001b[38;5;124;43m\"\u001b[39;49m\u001b[38;5;124;43mwhite\u001b[39;49m\u001b[38;5;124;43m\"\u001b[39;49m\u001b[43m,\u001b[49m\u001b[43mwidth\u001b[49m\u001b[38;5;241;43m=\u001b[39;49m\u001b[38;5;241;43m900\u001b[39;49m\u001b[43m,\u001b[49m\u001b[43m \u001b[49m\u001b[43mheight\u001b[49m\u001b[38;5;241;43m=\u001b[39;49m\u001b[38;5;241;43m500\u001b[39;49m\u001b[43m,\u001b[49m\u001b[43m \u001b[49m\u001b[43mfont_path\u001b[49m\u001b[38;5;241;43m=\u001b[39;49m\u001b[43mfont_path\u001b[49m\u001b[43m)\u001b[49m\u001b[38;5;241;43m.\u001b[39;49m\u001b[43mgenerate_from_frequencies\u001b[49m\u001b[43m(\u001b[49m\u001b[43mtfidf_dict\u001b[49m\u001b[43m)\u001b[49m\n\u001b[0;32m      6\u001b[0m plt\u001b[38;5;241m.\u001b[39mfigure(figsize\u001b[38;5;241m=\u001b[39m(\u001b[38;5;241m18\u001b[39m,\u001b[38;5;241m10\u001b[39m))\n\u001b[0;32m      7\u001b[0m plt\u001b[38;5;241m.\u001b[39maxis(\u001b[38;5;124m\"\u001b[39m\u001b[38;5;124moff\u001b[39m\u001b[38;5;124m\"\u001b[39m)\n",
      "File \u001b[1;32m~\\AppData\\Local\\Programs\\Python\\Python311\\Lib\\site-packages\\wordcloud\\wordcloud.py:453\u001b[0m, in \u001b[0;36mWordCloud.generate_from_frequencies\u001b[1;34m(self, frequencies, max_font_size)\u001b[0m\n\u001b[0;32m    451\u001b[0m     font_size \u001b[38;5;241m=\u001b[39m \u001b[38;5;28mself\u001b[39m\u001b[38;5;241m.\u001b[39mheight\n\u001b[0;32m    452\u001b[0m \u001b[38;5;28;01melse\u001b[39;00m:\n\u001b[1;32m--> 453\u001b[0m     \u001b[38;5;28;43mself\u001b[39;49m\u001b[38;5;241;43m.\u001b[39;49m\u001b[43mgenerate_from_frequencies\u001b[49m\u001b[43m(\u001b[49m\u001b[38;5;28;43mdict\u001b[39;49m\u001b[43m(\u001b[49m\u001b[43mfrequencies\u001b[49m\u001b[43m[\u001b[49m\u001b[43m:\u001b[49m\u001b[38;5;241;43m2\u001b[39;49m\u001b[43m]\u001b[49m\u001b[43m)\u001b[49m\u001b[43m,\u001b[49m\n\u001b[0;32m    454\u001b[0m \u001b[43m                                   \u001b[49m\u001b[43mmax_font_size\u001b[49m\u001b[38;5;241;43m=\u001b[39;49m\u001b[38;5;28;43mself\u001b[39;49m\u001b[38;5;241;43m.\u001b[39;49m\u001b[43mheight\u001b[49m\u001b[43m)\u001b[49m\n\u001b[0;32m    455\u001b[0m     \u001b[38;5;66;03m# find font sizes\u001b[39;00m\n\u001b[0;32m    456\u001b[0m     sizes \u001b[38;5;241m=\u001b[39m [x[\u001b[38;5;241m1\u001b[39m] \u001b[38;5;28;01mfor\u001b[39;00m x \u001b[38;5;129;01min\u001b[39;00m \u001b[38;5;28mself\u001b[39m\u001b[38;5;241m.\u001b[39mlayout_]\n",
      "File \u001b[1;32m~\\AppData\\Local\\Programs\\Python\\Python311\\Lib\\site-packages\\wordcloud\\wordcloud.py:503\u001b[0m, in \u001b[0;36mWordCloud.generate_from_frequencies\u001b[1;34m(self, frequencies, max_font_size)\u001b[0m\n\u001b[0;32m    500\u001b[0m tried_other_orientation \u001b[38;5;241m=\u001b[39m \u001b[38;5;28;01mFalse\u001b[39;00m\n\u001b[0;32m    501\u001b[0m \u001b[38;5;28;01mwhile\u001b[39;00m \u001b[38;5;28;01mTrue\u001b[39;00m:\n\u001b[0;32m    502\u001b[0m     \u001b[38;5;66;03m# try to find a position\u001b[39;00m\n\u001b[1;32m--> 503\u001b[0m     font \u001b[38;5;241m=\u001b[39m \u001b[43mImageFont\u001b[49m\u001b[38;5;241;43m.\u001b[39;49m\u001b[43mtruetype\u001b[49m\u001b[43m(\u001b[49m\u001b[38;5;28;43mself\u001b[39;49m\u001b[38;5;241;43m.\u001b[39;49m\u001b[43mfont_path\u001b[49m\u001b[43m,\u001b[49m\u001b[43m \u001b[49m\u001b[43mfont_size\u001b[49m\u001b[43m)\u001b[49m\n\u001b[0;32m    504\u001b[0m     \u001b[38;5;66;03m# transpose font optionally\u001b[39;00m\n\u001b[0;32m    505\u001b[0m     transposed_font \u001b[38;5;241m=\u001b[39m ImageFont\u001b[38;5;241m.\u001b[39mTransposedFont(\n\u001b[0;32m    506\u001b[0m         font, orientation\u001b[38;5;241m=\u001b[39morientation)\n",
      "File \u001b[1;32m~\\AppData\\Local\\Programs\\Python\\Python311\\Lib\\site-packages\\PIL\\ImageFont.py:791\u001b[0m, in \u001b[0;36mtruetype\u001b[1;34m(font, size, index, encoding, layout_engine)\u001b[0m\n\u001b[0;32m    788\u001b[0m     \u001b[38;5;28;01mreturn\u001b[39;00m FreeTypeFont(font, size, index, encoding, layout_engine)\n\u001b[0;32m    790\u001b[0m \u001b[38;5;28;01mtry\u001b[39;00m:\n\u001b[1;32m--> 791\u001b[0m     \u001b[38;5;28;01mreturn\u001b[39;00m \u001b[43mfreetype\u001b[49m\u001b[43m(\u001b[49m\u001b[43mfont\u001b[49m\u001b[43m)\u001b[49m\n\u001b[0;32m    792\u001b[0m \u001b[38;5;28;01mexcept\u001b[39;00m \u001b[38;5;167;01mOSError\u001b[39;00m:\n\u001b[0;32m    793\u001b[0m     \u001b[38;5;28;01mif\u001b[39;00m \u001b[38;5;129;01mnot\u001b[39;00m is_path(font):\n",
      "File \u001b[1;32m~\\AppData\\Local\\Programs\\Python\\Python311\\Lib\\site-packages\\PIL\\ImageFont.py:788\u001b[0m, in \u001b[0;36mtruetype.<locals>.freetype\u001b[1;34m(font)\u001b[0m\n\u001b[0;32m    787\u001b[0m \u001b[38;5;28;01mdef\u001b[39;00m \u001b[38;5;21mfreetype\u001b[39m(font):\n\u001b[1;32m--> 788\u001b[0m     \u001b[38;5;28;01mreturn\u001b[39;00m \u001b[43mFreeTypeFont\u001b[49m\u001b[43m(\u001b[49m\u001b[43mfont\u001b[49m\u001b[43m,\u001b[49m\u001b[43m \u001b[49m\u001b[43msize\u001b[49m\u001b[43m,\u001b[49m\u001b[43m \u001b[49m\u001b[43mindex\u001b[49m\u001b[43m,\u001b[49m\u001b[43m \u001b[49m\u001b[43mencoding\u001b[49m\u001b[43m,\u001b[49m\u001b[43m \u001b[49m\u001b[43mlayout_engine\u001b[49m\u001b[43m)\u001b[49m\n",
      "File \u001b[1;32m~\\AppData\\Local\\Programs\\Python\\Python311\\Lib\\site-packages\\PIL\\ImageFont.py:226\u001b[0m, in \u001b[0;36mFreeTypeFont.__init__\u001b[1;34m(self, font, size, index, encoding, layout_engine)\u001b[0m\n\u001b[0;32m    224\u001b[0m                 load_from_bytes(f)\n\u001b[0;32m    225\u001b[0m             \u001b[38;5;28;01mreturn\u001b[39;00m\n\u001b[1;32m--> 226\u001b[0m     \u001b[38;5;28mself\u001b[39m\u001b[38;5;241m.\u001b[39mfont \u001b[38;5;241m=\u001b[39m \u001b[43mcore\u001b[49m\u001b[38;5;241;43m.\u001b[39;49m\u001b[43mgetfont\u001b[49m\u001b[43m(\u001b[49m\n\u001b[0;32m    227\u001b[0m \u001b[43m        \u001b[49m\u001b[43mfont\u001b[49m\u001b[43m,\u001b[49m\u001b[43m \u001b[49m\u001b[43msize\u001b[49m\u001b[43m,\u001b[49m\u001b[43m \u001b[49m\u001b[43mindex\u001b[49m\u001b[43m,\u001b[49m\u001b[43m \u001b[49m\u001b[43mencoding\u001b[49m\u001b[43m,\u001b[49m\u001b[43m \u001b[49m\u001b[43mlayout_engine\u001b[49m\u001b[38;5;241;43m=\u001b[39;49m\u001b[43mlayout_engine\u001b[49m\n\u001b[0;32m    228\u001b[0m \u001b[43m    \u001b[49m\u001b[43m)\u001b[49m\n\u001b[0;32m    229\u001b[0m \u001b[38;5;28;01melse\u001b[39;00m:\n\u001b[0;32m    230\u001b[0m     load_from_bytes(font)\n",
      "\u001b[1;31mOSError\u001b[0m: cannot open resource"
     ]
    }
   ],
   "source": [
    "import matplotlib.pyplot as plt\n",
    "from wordcloud import WordCloud\n",
    "\n",
    "font_path = \"/usr/share/fonts/opentype/ipaexfont-gothic/ipaexg.ttf\"\n",
    "wc = WordCloud(background_color=\"white\",width=900, height=500, font_path=font_path).generate_from_frequencies(tfidf_dict)\n",
    "plt.figure(figsize=(18,10))\n",
    "plt.axis(\"off\")\n",
    "plt.imshow(wc)"
   ]
  },
  {
   "cell_type": "code",
   "execution_count": null,
   "id": "debed71b",
   "metadata": {},
   "outputs": [],
   "source": []
  }
 ],
 "metadata": {
  "kernelspec": {
   "display_name": "Python 3 (ipykernel)",
   "language": "python",
   "name": "python3"
  },
  "language_info": {
   "codemirror_mode": {
    "name": "ipython",
    "version": 3
   },
   "file_extension": ".py",
   "mimetype": "text/x-python",
   "name": "python",
   "nbconvert_exporter": "python",
   "pygments_lexer": "ipython3",
   "version": "3.11.3"
  }
 },
 "nbformat": 4,
 "nbformat_minor": 5
}
