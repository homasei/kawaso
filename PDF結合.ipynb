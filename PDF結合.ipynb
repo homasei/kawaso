{
 "cells": [
  {
   "cell_type": "code",
   "execution_count": 9,
   "id": "68bcb09b",
   "metadata": {},
   "outputs": [],
   "source": [
    "#PDF結合ライブラリ取得\n",
    "import os\n",
    "from pypdf import PdfMerger\n",
    "\n",
    "#使用者のフォルダ(input,output)を指定する\n",
    "input_dir = r\"C:\\Users\\matsumoto_tkyk\\OneDrive - カワソーテクセル株式会社\\デスクトップ\\input\"\n",
    "output_dir = r\"C:\\Users\\matsumoto_tkyk\\OneDrive - カワソーテクセル株式会社\\デスクトップ\\output\"\n",
    "\n",
    "def pdf_merge(input_dir, output_dir):\n",
    "    #マージするためのPdfMergerオブジェクトを作成\n",
    "    merger = PdfMerger()\n",
    "\n",
    "    #inputフォルダ内のファイルを取得\n",
    "    for filename in os.listdir(input_dir):\n",
    "        #拡張子が.pdfのファイルをinput,outputディレクトリと同期\n",
    "        if filename.endswith('.pdf'):\n",
    "            input_path = os.path.join(input_dir, filename)\n",
    "\n",
    "            #ファイルを連結\n",
    "            merger.append(input_path)\n",
    "\n",
    "    #出力ファイルに保存\n",
    "    with open(os.path.join(output_dir, \"結合後.pdf\"), \"wb\") as output_pdf:\n",
    "        merger.write(output_pdf)\n",
    "        \n",
    "pdf_merge(input_dir, output_dir)"
   ]
  }
 ],
 "metadata": {
  "kernelspec": {
   "display_name": "Python 3 (ipykernel)",
   "language": "python",
   "name": "python3"
  },
  "language_info": {
   "codemirror_mode": {
    "name": "ipython",
    "version": 3
   },
   "file_extension": ".py",
   "mimetype": "text/x-python",
   "name": "python",
   "nbconvert_exporter": "python",
   "pygments_lexer": "ipython3",
   "version": "3.11.3"
  }
 },
 "nbformat": 4,
 "nbformat_minor": 5
}
